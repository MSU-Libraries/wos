{
 "cells": [
  {
   "cell_type": "markdown",
   "metadata": {},
   "source": [
    "## Web of Science API\n",
    "This code is designed to interact with the WOS API using \"premium\" or \"lite\" access protocols.\n",
    "\n",
    "-    `wos.py` contains code for interacting with the API directly.\n",
    "-    `woscalls.py` includes calls made to the `WOS` class\n",
    "-    `metawos.py` can be used to extract metadata from search results.\n",
    "-    `buildsearch.py` builds search strings from data supplied in a certain style of tsv file."
   ]
  },
  {
   "cell_type": "markdown",
   "metadata": {},
   "source": [
    "### Dependencies\n",
    "\n",
    "-    [lxml](http://lxml.de/) for xml parsing\n",
    "-    [suds](https://fedorahosted.org/suds/wiki/Documentation) for SOAP API interaction."
   ]
  },
  {
   "cell_type": "markdown",
   "metadata": {},
   "source": [
    "### The API Class\n",
    "\n",
    "It's possible to work with the API class, `WOS`, directly using syntax like the following:"
   ]
  },
  {
   "cell_type": "code",
   "execution_count": 13,
   "metadata": {
    "collapsed": false
   },
   "outputs": [],
   "source": [
    "from wos import Wos\n",
    "wos = Wos(client=\"Lite\")"
   ]
  },
  {
   "cell_type": "markdown",
   "metadata": {},
   "source": [
    "This will initiate the search client but not yet run any API calls. There are two options for the \"client\" keyword argument: \"Search\" and \"Lite\". The Lite API should be available to all institutions that subscribe to at least the Web of Knowledge Core Collection. Contact your representative to have access opened to your IP address, if it isn't already. [More details here](http://wokinfo.com/products_tools/products/related/webservices/). The Lite API provides basic search and basic metadata retrieval functionality, but _not_ citation retrieval.\n",
    "\n",
    "The \"Search\" client is an available at an additional cost, and does provide access to both forward and backward citation data. Access is available on a project basis, or as a yearly subscription. I would recommend first requesting a trial period to work with the API."
   ]
  },
  {
   "cell_type": "code",
   "execution_count": 14,
   "metadata": {
    "collapsed": false
   },
   "outputs": [
    {
     "name": "stdout",
     "output_type": "stream",
     "text": [
      "Search client authorized.\n"
     ]
    }
   ],
   "source": [
    "wos.authorize()"
   ]
  },
  {
   "cell_type": "markdown",
   "metadata": {},
   "source": [
    "The `authorize` function attempts to authenticate based on IP address. If successful, an authorization token will be attached to all future requests in the session. "
   ]
  },
  {
   "cell_type": "code",
   "execution_count": 15,
   "metadata": {
    "collapsed": false
   },
   "outputs": [
    {
     "data": {
      "text/plain": [
       "(queryParameters){\n",
       "   databaseId = \"WOK\"\n",
       "   userQuery = \"AU=(Peiretti AND Palmegiano) AND SO=(Animal Feed Science and Technology) AND PY=2004\"\n",
       "   editions[] = <empty>\n",
       "   symbolicTimeSpan = None\n",
       "   timeSpan = \n",
       "      (timeSpan){\n",
       "         begin = \"1900-01-01\"\n",
       "         end = \"2015-10-01\"\n",
       "      }\n",
       "   queryLanguage = \"en\"\n",
       " }"
      ]
     },
     "execution_count": 15,
     "metadata": {},
     "output_type": "execute_result"
    }
   ],
   "source": [
    "wos.query_parameters('AU=(Peiretti AND Palmegiano) AND SO=(Animal Feed Science and Technology) AND PY=2004', database_id=\"WOK\")"
   ]
  },
  {
   "cell_type": "markdown",
   "metadata": {},
   "source": [
    "First establish the `query_parameters` object, which should include a query string along with, optionally, a set of parameters. Details on the structure of the query can be found in the API documentation (which can be requested from ThomsonReutuers, but which I'm also making available [here](https://www.msu.edu/~higgi135/WebServicesLiteguide.pdf) (in possibly an outdated version).  \n",
    "\n",
    "Parameters can be provided as the following keyword arguments:\n",
    "\n",
    "- **time_begin (str)** -- date in YYYY-MM-DD format.\n",
    "- **time_end (str)** -- date in YYYY-MM-DD format.\n",
    "- **database_id (str)** -- from the WOS set of database abbreviations. \"WOS\" correpsonds to the WOS core collection.\n",
    "- **query_language (str)** -- \"en\" the only currently allowed value.\n",
    "- **symbolic_timespan (str)** -- a human-readable timespan, e.g. \"4weeks\", must be null if time_begin and time_end used.\n",
    "- **editions (list)** -- TODO list of sub-components of the selected database to use."
   ]
  },
  {
   "cell_type": "code",
   "execution_count": 16,
   "metadata": {
    "collapsed": false
   },
   "outputs": [
    {
     "data": {
      "text/plain": [
       "(retrieveParameters){\n",
       "   firstRecord = 1\n",
       "   count = 100\n",
       "   sortField[] = <empty>\n",
       " }"
      ]
     },
     "execution_count": 16,
     "metadata": {},
     "output_type": "execute_result"
    }
   ],
   "source": [
    "wos.retrieve_parameters()"
   ]
  },
  {
   "cell_type": "markdown",
   "metadata": {},
   "source": [
    "The `retrieve_parameters` allow for some control of the data that is returned.  \n",
    "\n",
    "- **first_record (int)** -- The number of the first record to return in the search.\n",
    "- **count (int)** -- Number of records to return (maximum 100).\n",
    "- **sort_field (list)** -- TODO Field to sort by (should be WOS field abbreviation)."
   ]
  },
  {
   "cell_type": "code",
   "execution_count": 17,
   "metadata": {
    "collapsed": false
   },
   "outputs": [
    {
     "name": "stdout",
     "output_type": "stream",
     "text": [
      "Found 1 Results for AU=(Peiretti AND Palmegiano) AND SO=(Animal Feed Science and Technology) AND PY=2004\n"
     ]
    },
    {
     "data": {
      "text/plain": [
       "(searchResults){\n",
       "   queryId = \"1\"\n",
       "   recordsFound = 1\n",
       "   recordsSearched = 198371943\n",
       "   records[] = \n",
       "      (liteRecord){\n",
       "         uid = \"WOS:000224567700011\"\n",
       "         title[] = \n",
       "            (labelValuesPair){\n",
       "               label = \"Title\"\n",
       "               value[] = \n",
       "                  \"Chemical composition, organic matter digestibility and fatty acid content of evening primrose (Oenothera paradoxa) during its growth cycle\",\n",
       "            },\n",
       "         source[] = \n",
       "            (labelValuesPair){\n",
       "               label = \"Issue\"\n",
       "               value[] = \n",
       "                  \"3-4\",\n",
       "            },\n",
       "            (labelValuesPair){\n",
       "               label = \"Pages\"\n",
       "               value[] = \n",
       "                  \"293-299\",\n",
       "            },\n",
       "            (labelValuesPair){\n",
       "               label = \"Published.BiblioDate\"\n",
       "               value[] = \n",
       "                  \"OCT 15\",\n",
       "            },\n",
       "            (labelValuesPair){\n",
       "               label = \"Published.BiblioYear\"\n",
       "               value[] = \n",
       "                  \"2004\",\n",
       "            },\n",
       "            (labelValuesPair){\n",
       "               label = \"SourceTitle\"\n",
       "               value[] = \n",
       "                  \"ANIMAL FEED SCIENCE AND TECHNOLOGY\",\n",
       "            },\n",
       "            (labelValuesPair){\n",
       "               label = \"Volume\"\n",
       "               value[] = \n",
       "                  \"116\",\n",
       "            },\n",
       "         authors[] = \n",
       "            (labelValuesPair){\n",
       "               label = \"Authors\"\n",
       "               value[] = \n",
       "                  \"Peiretti, PG\",\n",
       "                  \"Palmegiano, GB\",\n",
       "                  \"Masoero, G\",\n",
       "            },\n",
       "         keywords[] = \n",
       "            (labelValuesPair){\n",
       "               label = \"Keywords\"\n",
       "               value[] = \n",
       "                  \"lipids\",\n",
       "                  \"forage\",\n",
       "                  \"foodstuffs\",\n",
       "                  \"ruminant\",\n",
       "                  \"nutrition\",\n",
       "            },\n",
       "         other[] = \n",
       "            (labelValuesPair){\n",
       "               label = \"Contributor.ResearcherID.Names\"\n",
       "               value[] = \n",
       "                  \"Peiretti, Pier Giorgio\",\n",
       "                  \"Peiretti, Pier Giorgio\",\n",
       "            },\n",
       "            (labelValuesPair){\n",
       "               label = \"Contributor.ResearcherID.ResearcherIDs\"\n",
       "               value[] = \n",
       "                  \"B-6871-2013\",\n",
       "                  None,\n",
       "            },\n",
       "            (labelValuesPair){\n",
       "               label = \"Identifier.Doi\"\n",
       "               value[] = \n",
       "                  \"10.1016/j.anifeedsci.2004.07.001\",\n",
       "            },\n",
       "            (labelValuesPair){\n",
       "               label = \"Identifier.Ids\"\n",
       "               value[] = \n",
       "                  \"863ND\",\n",
       "            },\n",
       "            (labelValuesPair){\n",
       "               label = \"Identifier.Issn\"\n",
       "               value[] = \n",
       "                  \"0377-8401\",\n",
       "            },\n",
       "            (labelValuesPair){\n",
       "               label = \"Identifier.Xref_Doi\"\n",
       "               value[] = \n",
       "                  \"10.1016/j.anifeedsci.2004.07.001\",\n",
       "            },\n",
       "            (labelValuesPair){\n",
       "               label = \"ResearcherID.Disclaimer\"\n",
       "               value[] = \n",
       "                  \"ResearcherID data provided by Thomson Reuters\",\n",
       "            },\n",
       "      },\n",
       " }"
      ]
     },
     "execution_count": 17,
     "metadata": {},
     "output_type": "execute_result"
    }
   ],
   "source": [
    "wos.search(wos.qp, wos.rp)"
   ]
  },
  {
   "cell_type": "markdown",
   "metadata": {},
   "source": [
    "Run the search by calling the `search` function with the query parameters and retrieve parameters objects as arguments (`wos.qp` and `wos.rp` respectively). "
   ]
  },
  {
   "cell_type": "markdown",
   "metadata": {
    "collapsed": false
   },
   "source": [
    "Results can be found in the `wos.search_results.records` object, if any results were returned. More generally, `wos.search_results` can be used to find info about the response, including number of results.  \n",
    "\n",
    "Additional methods can be used to get cited references as well as citing articles if the \"Search\" client is used."
   ]
  },
  {
   "cell_type": "code",
   "execution_count": 2,
   "metadata": {
    "collapsed": false
   },
   "outputs": [
    {
     "name": "stdout",
     "output_type": "stream",
     "text": [
      "Search client authorized.\n",
      "Found 1 Results for AU=(Peiretti AND Palmegiano) AND SO=(Animal Feed Science and Technology) AND PY=2004\n"
     ]
    },
    {
     "data": {
      "text/plain": [
       "(searchResults){\n",
       "   queryId = \"1\"\n",
       "   recordsFound = 1\n",
       "   recordsSearched = 198821686\n",
       "   records[] = \n",
       "      (liteRecord){\n",
       "         uid = \"WOS:000224567700011\"\n",
       "         title[] = \n",
       "            (labelValuesPair){\n",
       "               label = \"Title\"\n",
       "               value[] = \n",
       "                  \"Chemical composition, organic matter digestibility and fatty acid content of evening primrose (Oenothera paradoxa) during its growth cycle\",\n",
       "            },\n",
       "         source[] = \n",
       "            (labelValuesPair){\n",
       "               label = \"Issue\"\n",
       "               value[] = \n",
       "                  \"3-4\",\n",
       "            },\n",
       "            (labelValuesPair){\n",
       "               label = \"Pages\"\n",
       "               value[] = \n",
       "                  \"293-299\",\n",
       "            },\n",
       "            (labelValuesPair){\n",
       "               label = \"Published.BiblioDate\"\n",
       "               value[] = \n",
       "                  \"OCT 15\",\n",
       "            },\n",
       "            (labelValuesPair){\n",
       "               label = \"Published.BiblioYear\"\n",
       "               value[] = \n",
       "                  \"2004\",\n",
       "            },\n",
       "            (labelValuesPair){\n",
       "               label = \"SourceTitle\"\n",
       "               value[] = \n",
       "                  \"ANIMAL FEED SCIENCE AND TECHNOLOGY\",\n",
       "            },\n",
       "            (labelValuesPair){\n",
       "               label = \"Volume\"\n",
       "               value[] = \n",
       "                  \"116\",\n",
       "            },\n",
       "         authors[] = \n",
       "            (labelValuesPair){\n",
       "               label = \"Authors\"\n",
       "               value[] = \n",
       "                  \"Peiretti, PG\",\n",
       "                  \"Palmegiano, GB\",\n",
       "                  \"Masoero, G\",\n",
       "            },\n",
       "         keywords[] = \n",
       "            (labelValuesPair){\n",
       "               label = \"Keywords\"\n",
       "               value[] = \n",
       "                  \"lipids\",\n",
       "                  \"forage\",\n",
       "                  \"foodstuffs\",\n",
       "                  \"ruminant\",\n",
       "                  \"nutrition\",\n",
       "            },\n",
       "         other[] = \n",
       "            (labelValuesPair){\n",
       "               label = \"Contributor.ResearcherID.Names\"\n",
       "               value[] = \n",
       "                  \"Peiretti, Pier Giorgio\",\n",
       "                  \"Peiretti, Pier Giorgio\",\n",
       "            },\n",
       "            (labelValuesPair){\n",
       "               label = \"Contributor.ResearcherID.ResearcherIDs\"\n",
       "               value[] = \n",
       "                  \"B-6871-2013\",\n",
       "                  None,\n",
       "            },\n",
       "            (labelValuesPair){\n",
       "               label = \"Identifier.Doi\"\n",
       "               value[] = \n",
       "                  \"10.1016/j.anifeedsci.2004.07.001\",\n",
       "            },\n",
       "            (labelValuesPair){\n",
       "               label = \"Identifier.Ids\"\n",
       "               value[] = \n",
       "                  \"863ND\",\n",
       "            },\n",
       "            (labelValuesPair){\n",
       "               label = \"Identifier.Issn\"\n",
       "               value[] = \n",
       "                  \"0377-8401\",\n",
       "            },\n",
       "            (labelValuesPair){\n",
       "               label = \"Identifier.Xref_Doi\"\n",
       "               value[] = \n",
       "                  \"10.1016/j.anifeedsci.2004.07.001\",\n",
       "            },\n",
       "            (labelValuesPair){\n",
       "               label = \"ResearcherID.Disclaimer\"\n",
       "               value[] = \n",
       "                  \"ResearcherID data provided by Thomson Reuters\",\n",
       "            },\n",
       "      },\n",
       " }"
      ]
     },
     "execution_count": 2,
     "metadata": {},
     "output_type": "execute_result"
    }
   ],
   "source": [
    "from wos import Wos\n",
    "wos = Wos(client=\"Lite\")\n",
    "wos.authorize()\n",
    "wos.query_parameters('AU=(Peiretti AND Palmegiano) AND SO=(Animal Feed Science and Technology) AND PY=2004', database_id=\"WOK\")\n",
    "wos.retrieve_parameters(view_field=[\"title\", \"name\"])\n",
    "wos.search(wos.qp, wos.rp)"
   ]
  },
  {
   "cell_type": "markdown",
   "metadata": {},
   "source": [
    "The above code should return 1 result and can be used as a test to ensure code is working properly."
   ]
  },
  {
   "cell_type": "markdown",
   "metadata": {},
   "source": [
    "### Automating Searches\n",
    "\n",
    "The `WosCalls` class provides a means of interacting with the API 1 level up. That is, lists of search strings or sets of search parameters can be provided to run in batch. *This functionality is still work in progress*."
   ]
  },
  {
   "cell_type": "code",
   "execution_count": 19,
   "metadata": {
    "collapsed": false
   },
   "outputs": [
    {
     "name": "stdout",
     "output_type": "stream",
     "text": [
      "Search client authorized.\n",
      "Found 1 Results for AU=(Lambertsen) AND PY=1966 AND SO=(Acta Agric* Scand*)\n",
      "Found 1 Results for AU=(Bentes) AND PY=1986 AND SO=(Acta Amazonica)\n",
      "Found 1 Results for AU=(Maia) AND PY=1978 AND SO=(Acta Amazonica)\n",
      "Found 0 Results for AU=(Loth) AND PY=1991 AND SO=(Agrochimica)\n",
      "Found 1 Results for AU=(Jellum AND Powell) AND PY=1971 AND SO=(Agron* J*)\n",
      "Found 5 Results for AU=(Bertoni) AND PY=1994 AND SO=(An* Asoc* Quim* Argent*)\n",
      "Found 0 Results for AU=(Balnchini) AND PY=1981 AND SO=(Anal* Chem*)\n",
      "Found 1 Results for AU=(Peiretti AND Palmegiano AND Masoero) AND PY=2004 AND SO=(Animal Feed Science and Technology)\n",
      "Found 0 Results for AU=(Adhikari) AND PY=1991 AND SO=(Bangladesh J* Sci* Ind* Res*)\n",
      "Found 0 Results for AU=(Serrano AND Guzm?n) AND PY=1994 AND SO=(Biochem* Systemat* Ecology)\n",
      "Process complete.\n",
      "Returned 10 records\n"
     ]
    }
   ],
   "source": [
    "from woscalls import WosCalls\n",
    "wosc = WosCalls(search_queries=bs.searches, database_id=\"WOK\")\n",
    "wosc.get_all_search_results()"
   ]
  },
  {
   "cell_type": "code",
   "execution_count": 2,
   "metadata": {
    "collapsed": false
   },
   "outputs": [
    {
     "name": "stdout",
     "output_type": "stream",
     "text": [
      "Search client authorized.\n",
      "Found 2 Results for AU=(Kabele-Ngiefu) AND PY=1976 AND SO=(Oleagineux)\n",
      "----Comparing [Oil plants of Zaire. I. Botanical families giving oils of relatively low unsaturation.]\n",
      "----exact_match\n",
      "----Storing 1 record(s)\n",
      "Found 2 Results for AU=(Kabele-Ngiefu) AND PY=1976 AND SO=(Oleagineux)\n",
      "----Comparing [Oil plants of Zaire. I. Botanical families giving oils of relatively low unsaturation.]\n",
      "----probable_match\n",
      "----Comparing [Oil-bearing plants of Zaire. II. Botanical families providing oils of medium unsaturation., Les plantes a huile du Zaire. II. Familles botaniques fournissant des huiles d'insaturation moyenne.]\n",
      "----exact_match\n",
      "----Storing 1 record(s)\n",
      "Found 2 Results for AU=(Kabele-Ngiefu) AND PY=1976 AND SO=(Oleagineux)\n",
      "----Comparing [Oil plants of Zaire. I. Botanical families giving oils of relatively low unsaturation.]\n",
      "----probable_match\n",
      "----Comparing [Oil-bearing plants of Zaire. II. Botanical families providing oils of medium unsaturation., Les plantes a huile du Zaire. II. Familles botaniques fournissant des huiles d'insaturation moyenne.]\n",
      "----exact_match\n",
      "----Storing 1 record(s)\n",
      "Found 2 Results for AU=(Kabele-Ngiefu) AND PY=1976 AND SO=(Oleagineux)\n",
      "----Comparing [Oil plants of Zaire. I. Botanical families giving oils of relatively low unsaturation.]\n",
      "----probable_match\n",
      "----Comparing [Oil-bearing plants of Zaire. II. Botanical families providing oils of medium unsaturation., Les plantes a huile du Zaire. II. Familles botaniques fournissant des huiles d'insaturation moyenne.]\n",
      "----exact_match\n",
      "----Storing 1 record(s)\n",
      "Found 2 Results for AU=(Kabele-Ngiefu) AND PY=1976 AND SO=(Oleagineux)\n",
      "----Comparing [Oil plants of Zaire. I. Botanical families giving oils of relatively low unsaturation.]\n",
      "----probable_match\n",
      "----Comparing [Oil-bearing plants of Zaire. II. Botanical families providing oils of medium unsaturation., Les plantes a huile du Zaire. II. Familles botaniques fournissant des huiles d'insaturation moyenne.]\n",
      "----exact_match\n",
      "----Storing 1 record(s)\n",
      "Found 2 Results for AU=(Kabele-Ngiefu) AND PY=1976 AND SO=(Oleagineux)\n",
      "----Comparing [Oil plants of Zaire. I. Botanical families giving oils of relatively low unsaturation.]\n",
      "----probable_match\n",
      "----Comparing [Oil-bearing plants of Zaire. II. Botanical families providing oils of medium unsaturation., Les plantes a huile du Zaire. II. Familles botaniques fournissant des huiles d'insaturation moyenne.]\n",
      "----exact_match\n",
      "----Storing 1 record(s)\n",
      "Found 1 Results for AU=(Kabele-Ngiefu) AND PY=1977 AND SO=(Oleagineux)\n",
      "Found 1 Results for AU=(Kabele) AND PY=1977 AND SO=(Oleagineux)\n",
      "Found 1 Results for AU=(Kabele) AND PY=1977 AND SO=(Oleagineux)\n",
      "Found 0 Results for AU=(Kable AND Ngiefu) AND PY=1977 AND SO=(Oleagineux)\n",
      "Found 1 Results for AU=(Kiosseoglou AND Boskou) AND PY=1989 AND SO=(Oleagineux)\n",
      "Found 0 Results for AU=(Mazuelos AND Vela) AND PY=1967 AND SO=(Oleagineux)\n",
      "Found 1 Results for AU=(Muderhwa) AND PY=1987 AND SO=(Oleagineux)\n",
      "Found 0 Results for AU=(Ngiefu-Kabele) AND PY=1975 AND SO=(Oleagineux)\n",
      "Found 0 Results for AU=(Ngiefu-Kabele) AND PY=1976 AND SO=(Oleagineux)\n",
      "Found 3 Results for AU=(Ngiefu) AND PY=1976 AND SO=(Oleagineux)\n",
      "----Comparing [Oil-bearing plants of Zaire. II. Botanical families providing oils of medium unsaturation., Les plantes a huile du Zaire. II. Familles botaniques fournissant des huiles d'insaturation moyenne.]\n",
      "----probable_match\n",
      "----Comparing [Oil-bearing plants of Zaire. I. Botanical families providing oils of relatively low unsaturation., Les plantes a huile du Zaire. I. Familles botaniques fournissant des huiles d'insaturation relativement faible.]\n",
      "----exact_match\n",
      "----Storing 1 record(s)\n",
      "Found 3 Results for AU=(Ngiefu) AND PY=1976 AND SO=(Oleagineux)\n",
      "----Comparing [Oil-bearing plants of Zaire. II. Botanical families providing oils of medium unsaturation., Les plantes a huile du Zaire. II. Familles botaniques fournissant des huiles d'insaturation moyenne.]\n",
      "----exact_match\n",
      "----Storing 1 record(s)\n",
      "Found 3 Results for AU=(Ngiefu) AND PY=1976 AND SO=(Oleagineux)\n",
      "----Comparing [Oil-bearing plants of Zaire. II. Botanical families providing oils of medium unsaturation., Les plantes a huile du Zaire. II. Familles botaniques fournissant des huiles d'insaturation moyenne.]\n",
      "----probable_match\n",
      "----Comparing [Oil-bearing plants of Zaire. I. Botanical families providing oils of relatively low unsaturation., Les plantes a huile du Zaire. I. Familles botaniques fournissant des huiles d'insaturation relativement faible.]\n",
      "----exact_match\n",
      "----Storing 1 record(s)\n",
      "Found 1 Results for AU=(Pina) AND PY=1984 AND SO=(Oleagineux)\n",
      "Found 1 Results for AU=(Pina) AND PY=1984 AND SO=(Oleagineux)\n",
      "Found 1 Results for AU=(Pina) AND PY=1984 AND SO=(Oleagineux)\n",
      "Found 3 Results for AU=(Rabarisoa) AND PY=1993 AND SO=(Oleagineux)\n",
      "----Comparing [ASSESSMENT OF GROUNDNUT RESEARCH ACHIEVEMENTS IN THE SAVANNA REGIONS OF WEST-AFRICA]\n",
      "----probable_match\n",
      "----Comparing [Wild palms of Madagascar: study of the sterols composition of oils extracted from palm fruit.]\n",
      "----probable_match\n",
      "----Comparing [WILD PALMS IN MADAGASCAR - FATTY-ACID COMPOSITION OF OILS EXTRACTED FROM THE FRUITS OF 26 SPECIES]\n",
      "----exact_match\n",
      "----Storing 1 record(s)\n",
      "Found 3 Results for AU=(Rabarisoa) AND PY=1993 AND SO=(Oleagineux)\n",
      "----Comparing [ASSESSMENT OF GROUNDNUT RESEARCH ACHIEVEMENTS IN THE SAVANNA REGIONS OF WEST-AFRICA]\n",
      "----probable_match\n",
      "----Comparing [Wild palms of Madagascar: study of the sterols composition of oils extracted from palm fruit.]\n",
      "----probable_match\n",
      "----Comparing [WILD PALMS IN MADAGASCAR - FATTY-ACID COMPOSITION OF OILS EXTRACTED FROM THE FRUITS OF 26 SPECIES]\n",
      "----exact_match\n",
      "----Storing 1 record(s)\n",
      "{u'12297': [{'wos_ids': {u'Identifier.Issn': [u'0030-2082'], u'ResearcherID.Disclaimer': [u'ResearcherID data provided by Thomson Reuters'], u'Identifier.Ids': [u'LM430']}, 'wos_title': u'[WILD PALMS IN MADAGASCAR - FATTY-ACID COMPOSITION OF OILS EXTRACTED FROM THE FRUITS OF 26 SPECIES]', 'author': '(Rabarisoa)', 'wos_uid': u'WOS:A1993LM43000006', 'wos_source_data': {u'SourceTitle': [u'OLEAGINEUX'], u'Published.BiblioYear': [u'1993'], u'Published.BiblioDate': [u'MAY'], u'Volume': [u'48'], u'Issue': [u'5'], u'Pages': [u'251-255']}, 'id': u'12297', 'volume': u'48', 'source': '(Oleagineux)', 'wos_authors': u'[RABARISOA, I, GAYDOU, EM, BIANCHINI, JP]', 'year': u'1993', 'query': u'AU=(Rabarisoa) AND PY=1993 AND SO=(Oleagineux)', 'page': u'251-255'}], u'11880': [], u'12295': [{'wos_ids': {u'Identifier.Issn': [u'0030-2082'], u'ResearcherID.Disclaimer': [u'ResearcherID data provided by Thomson Reuters'], u'Identifier.Ids': [u'LM430']}, 'wos_title': u'[WILD PALMS IN MADAGASCAR - FATTY-ACID COMPOSITION OF OILS EXTRACTED FROM THE FRUITS OF 26 SPECIES]', 'author': '(Rabarisoa)', 'wos_uid': u'WOS:A1993LM43000006', 'wos_source_data': {u'SourceTitle': [u'OLEAGINEUX'], u'Published.BiblioYear': [u'1993'], u'Published.BiblioDate': [u'MAY'], u'Volume': [u'48'], u'Issue': [u'5'], u'Pages': [u'251-255']}, 'id': u'12295', 'volume': u'48', 'source': '(Oleagineux)', 'wos_authors': u'[RABARISOA, I, GAYDOU, EM, BIANCHINI, JP]', 'year': u'1993', 'query': u'AU=(Rabarisoa) AND PY=1993 AND SO=(Oleagineux)', 'page': u'251-255'}], u'11508': [{'wos_ids': {u'ResearcherID.Disclaimer': [u'ResearcherID data provided by Thomson Reuters']}, 'wos_title': u\"[Oil-bearing plants of Zaire. II. Botanical families providing oils of medium unsaturation., Les plantes a huile du Zaire. II. Familles botaniques fournissant des huiles d'insaturation moyenne.]\", 'author': '(Kabele-Ngiefu)', 'wos_uid': u'CABI:19770351574', 'wos_source_data': {u'SourceTitle': [u'Oleagineux'], u'Volume': [u'31'], u'Published.BiblioYear': [u'1976'], u'Issue': [u'12'], u'Pages': [u'545-547']}, 'id': u'11508', 'volume': u'31', 'source': '(Oleagineux)', 'wos_authors': u'[Ngiefu, C. K., Paquot, C., Vieux, A., Kabele Ngiefu, C.]', 'year': u'1976', 'query': u'AU=(Kabele-Ngiefu) AND PY=1976 AND SO=(Oleagineux)', 'page': u'545'}], u'11509': [{'wos_ids': {u'ResearcherID.Disclaimer': [u'ResearcherID data provided by Thomson Reuters']}, 'wos_title': u\"[Oil-bearing plants of Zaire. III. Botanical families providing oils of relatively high unsaturation., Les plantes a huile du Zaire. III. Familles botaniques fournissant des huiles d'insaturation relativement elevee.]\", 'author': '(Kabele-Ngiefu)', 'wos_uid': u'CABI:19780360953', 'wos_source_data': {u'SourceTitle': [u'Oleagineux'], u'Volume': [u'32'], u'Published.BiblioYear': [u'1977'], u'Issue': [u'12'], u'Pages': [u'535-537']}, 'id': u'11509', 'volume': u'32', 'source': '(Oleagineux)', 'wos_authors': u'[Ngiefu, C. K., Paquot, C., Vieux, A., Kabele Ngiefu, C.]', 'year': u'1977', 'query': u'AU=(Kabele-Ngiefu) AND PY=1977 AND SO=(Oleagineux)', 'page': u'535'}], u'11506': [{'wos_ids': {u'ResearcherID.Disclaimer': [u'ResearcherID data provided by Thomson Reuters']}, 'wos_title': u\"[Oil-bearing plants of Zaire. II. Botanical families providing oils of medium unsaturation., Les plantes a huile du Zaire. II. Familles botaniques fournissant des huiles d'insaturation moyenne.]\", 'author': '(Kabele-Ngiefu)', 'wos_uid': u'CABI:19770351574', 'wos_source_data': {u'SourceTitle': [u'Oleagineux'], u'Volume': [u'31'], u'Published.BiblioYear': [u'1976'], u'Issue': [u'12'], u'Pages': [u'545-547']}, 'id': u'11506', 'volume': u'31', 'source': '(Oleagineux)', 'wos_authors': u'[Ngiefu, C. K., Paquot, C., Vieux, A., Kabele Ngiefu, C.]', 'year': u'1976', 'query': u'AU=(Kabele-Ngiefu) AND PY=1976 AND SO=(Oleagineux)', 'page': u'545'}], u'11507': [{'wos_ids': {u'ResearcherID.Disclaimer': [u'ResearcherID data provided by Thomson Reuters']}, 'wos_title': u\"[Oil-bearing plants of Zaire. II. Botanical families providing oils of medium unsaturation., Les plantes a huile du Zaire. II. Familles botaniques fournissant des huiles d'insaturation moyenne.]\", 'author': '(Kabele-Ngiefu)', 'wos_uid': u'CABI:19770351574', 'wos_source_data': {u'SourceTitle': [u'Oleagineux'], u'Volume': [u'31'], u'Published.BiblioYear': [u'1976'], u'Issue': [u'12'], u'Pages': [u'545-547']}, 'id': u'11507', 'volume': u'31', 'source': '(Oleagineux)', 'wos_authors': u'[Ngiefu, C. K., Paquot, C., Vieux, A., Kabele Ngiefu, C.]', 'year': u'1976', 'query': u'AU=(Kabele-Ngiefu) AND PY=1976 AND SO=(Oleagineux)', 'page': u'545'}], u'11504': [{'wos_ids': {u'Identifier.Issn': [u'0030-2082'], u'ResearcherID.Disclaimer': [u'ResearcherID data provided by Thomson Reuters']}, 'wos_title': u'[Oil plants of Zaire. I. Botanical families giving oils of relatively low unsaturation.]', 'author': '(Kabele-Ngiefu)', 'wos_uid': u'FSTA:1977-03-N-0175', 'wos_source_data': {u'SourceTitle': [u'Oleagineux'], u'Volume': [u'31'], u'Published.BiblioYear': [u'1976'], u'Issue': [u'7'], u'Pages': [u'335-337']}, 'id': u'11504', 'volume': u'31', 'source': '(Oleagineux)', 'wos_authors': u'[Kabele Ngiefu, C., Paquot, C., Vieux, A.]', 'year': u'1976', 'query': u'AU=(Kabele-Ngiefu) AND PY=1976 AND SO=(Oleagineux)', 'page': u'335'}], u'11505': [{'wos_ids': {u'ResearcherID.Disclaimer': [u'ResearcherID data provided by Thomson Reuters']}, 'wos_title': u\"[Oil-bearing plants of Zaire. II. Botanical families providing oils of medium unsaturation., Les plantes a huile du Zaire. II. Familles botaniques fournissant des huiles d'insaturation moyenne.]\", 'author': '(Kabele-Ngiefu)', 'wos_uid': u'CABI:19770351574', 'wos_source_data': {u'SourceTitle': [u'Oleagineux'], u'Volume': [u'31'], u'Published.BiblioYear': [u'1976'], u'Issue': [u'12'], u'Pages': [u'545-547']}, 'id': u'11505', 'volume': u'31', 'source': '(Oleagineux)', 'wos_authors': u'[Ngiefu, C. K., Paquot, C., Vieux, A., Kabele Ngiefu, C.]', 'year': u'1976', 'query': u'AU=(Kabele-Ngiefu) AND PY=1976 AND SO=(Oleagineux)', 'page': u'545'}], u'12037': [{'wos_ids': {u'Identifier.Issn': [u'0030-2082'], u'ResearcherID.Disclaimer': [u'ResearcherID data provided by Thomson Reuters'], u'Identifier.Ids': [u'H7985']}, 'wos_title': u'[INTERNAL AND EXTERNAL DISTRIBUTION OF TRIGLYCERIDE FATTY-ACIDS IN A FEW GAMMA-LINOLENIC OILS]', 'author': '(Muderhwa)', 'wos_uid': u'WOS:A1987H798500005', 'wos_source_data': {u'SourceTitle': [u'OLEAGINEUX'], u'Published.BiblioYear': [u'1987'], u'Published.BiblioDate': [u'MAY'], u'Volume': [u'42'], u'Issue': [u'5'], u'Pages': [u'207-211']}, 'id': u'12037', 'volume': u'42', 'source': '(Oleagineux)', 'wos_authors': u'[MUDERHWA, JM, DHUIQUEMAYER, C, PINA, M, GALZY, P, GRIGNAC, P, GRAILLE, J]', 'year': u'1987', 'query': u'AU=(Muderhwa) AND PY=1987 AND SO=(Oleagineux)', 'page': u'207'}], u'11503': [{'wos_ids': {u'ResearcherID.Disclaimer': [u'ResearcherID data provided by Thomson Reuters']}, 'wos_title': u\"[Oil-bearing plants of Zaire. II. Botanical families providing oils of medium unsaturation., Les plantes a huile du Zaire. II. Familles botaniques fournissant des huiles d'insaturation moyenne.]\", 'author': '(Kabele-Ngiefu)', 'wos_uid': u'CABI:19770351574', 'wos_source_data': {u'SourceTitle': [u'Oleagineux'], u'Volume': [u'31'], u'Published.BiblioYear': [u'1976'], u'Issue': [u'12'], u'Pages': [u'545-547']}, 'id': u'11503', 'volume': u'31', 'source': '(Oleagineux)', 'wos_authors': u'[Ngiefu, C. K., Paquot, C., Vieux, A., Kabele Ngiefu, C.]', 'year': u'1976', 'query': u'AU=(Kabele-Ngiefu) AND PY=1976 AND SO=(Oleagineux)', 'page': u'545'}], u'11500': [{'wos_ids': {u'ResearcherID.Disclaimer': [u'ResearcherID data provided by Thomson Reuters']}, 'wos_title': u\"[Oil-bearing plants of Zaire. III. Botanical families providing oils of relatively high unsaturation., Les plantes a huile du Zaire. III. Familles botaniques fournissant des huiles d'insaturation relativement elevee.]\", 'author': '(Kabele)', 'wos_uid': u'CABI:19780360953', 'wos_source_data': {u'SourceTitle': [u'Oleagineux'], u'Volume': [u'32'], u'Published.BiblioYear': [u'1977'], u'Issue': [u'12'], u'Pages': [u'535-537']}, 'id': u'11500', 'volume': u'32', 'source': '(Oleagineux)', 'wos_authors': u'[Ngiefu, C. K., Paquot, C., Vieux, A., Kabele Ngiefu, C.]', 'year': u'1977', 'query': u'AU=(Kabele) AND PY=1977 AND SO=(Oleagineux)', 'page': u'535'}], u'11501': [{'wos_ids': {u'ResearcherID.Disclaimer': [u'ResearcherID data provided by Thomson Reuters']}, 'wos_title': u\"[Oil-bearing plants of Zaire. III. Botanical families providing oils of relatively high unsaturation., Les plantes a huile du Zaire. III. Familles botaniques fournissant des huiles d'insaturation relativement elevee.]\", 'author': '(Kabele)', 'wos_uid': u'CABI:19780360953', 'wos_source_data': {u'SourceTitle': [u'Oleagineux'], u'Volume': [u'32'], u'Published.BiblioYear': [u'1977'], u'Issue': [u'12'], u'Pages': [u'535-537']}, 'id': u'11501', 'volume': u'32', 'source': '(Oleagineux)', 'wos_authors': u'[Ngiefu, C. K., Paquot, C., Vieux, A., Kabele Ngiefu, C.]', 'year': u'1977', 'query': u'AU=(Kabele) AND PY=1977 AND SO=(Oleagineux)', 'page': u'535'}], u'12239': [{'wos_ids': {u'Identifier.Issn': [u'0030-2082'], u'ResearcherID.Disclaimer': [u'ResearcherID data provided by Thomson Reuters'], u'Identifier.Ids': [u'AEE94']}, 'wos_title': u'[RESEARCH ON OENOTHERA RICH IN GAMMA-LINOLENIC ACID]', 'author': '(Pina)', 'wos_uid': u'WOS:A1984AEE9400006', 'wos_source_data': {u'SourceTitle': [u'OLEAGINEUX'], u'Volume': [u'39'], u'Published.BiblioYear': [u'1984'], u'Issue': [u'12'], u'Pages': [u'593-596']}, 'id': u'12239', 'volume': u'39', 'source': '(Oleagineux)', 'wos_authors': u'[PINA, M, GRAILLE, J, GRIGNAC, P, LACOMBE, A, QUENOT, O, GARNIER, P]', 'year': u'1984', 'query': u'AU=(Pina) AND PY=1984 AND SO=(Oleagineux)', 'page': u'593'}], u'11588': [{'wos_ids': {u'Identifier.Issn': [u'0030-2082'], u'ResearcherID.Disclaimer': [u'ResearcherID data provided by Thomson Reuters'], u'Identifier.Ids': [u'CC848']}, 'wos_title': u'[THE COMPOSITION OF FREE AND ESTERIFIED STEROLS IN TOMATO SEED OIL]', 'author': '(Kiosseoglou AND Boskou)', 'wos_uid': u'WOS:A1989CC84800005', 'wos_source_data': {u'SourceTitle': [u'OLEAGINEUX'], u'Published.BiblioYear': [u'1989'], u'Published.BiblioDate': [u'FEB'], u'Volume': [u'44'], u'Issue': [u'2'], u'Pages': [u'113-115']}, 'id': u'11588', 'volume': u'44', 'source': '(Oleagineux)', 'wos_authors': u'[KIOSSEOGLOU, B, BOSKOU, D]', 'year': u'1989', 'query': u'AU=(Kiosseoglou AND Boskou) AND PY=1989 AND SO=(Oleagineux)', 'page': u'113'}], u'12240': [{'wos_ids': {u'Identifier.Issn': [u'0030-2082'], u'ResearcherID.Disclaimer': [u'ResearcherID data provided by Thomson Reuters'], u'Identifier.Ids': [u'AEE94']}, 'wos_title': u'[RESEARCH ON OENOTHERA RICH IN GAMMA-LINOLENIC ACID]', 'author': '(Pina)', 'wos_uid': u'WOS:A1984AEE9400006', 'wos_source_data': {u'SourceTitle': [u'OLEAGINEUX'], u'Volume': [u'39'], u'Published.BiblioYear': [u'1984'], u'Issue': [u'12'], u'Pages': [u'593-596']}, 'id': u'12240', 'volume': u'39', 'source': '(Oleagineux)', 'wos_authors': u'[PINA, M, GRAILLE, J, GRIGNAC, P, LACOMBE, A, QUENOT, O, GARNIER, P]', 'year': u'1984', 'query': u'AU=(Pina) AND PY=1984 AND SO=(Oleagineux)', 'page': u'593'}], u'12241': [{'wos_ids': {u'Identifier.Issn': [u'0030-2082'], u'ResearcherID.Disclaimer': [u'ResearcherID data provided by Thomson Reuters'], u'Identifier.Ids': [u'AEE94']}, 'wos_title': u'[RESEARCH ON OENOTHERA RICH IN GAMMA-LINOLENIC ACID]', 'author': '(Pina)', 'wos_uid': u'WOS:A1984AEE9400006', 'wos_source_data': {u'SourceTitle': [u'OLEAGINEUX'], u'Volume': [u'39'], u'Published.BiblioYear': [u'1984'], u'Issue': [u'12'], u'Pages': [u'593-596']}, 'id': u'12241', 'volume': u'39', 'source': '(Oleagineux)', 'wos_authors': u'[PINA, M, GRAILLE, J, GRIGNAC, P, LACOMBE, A, QUENOT, O, GARNIER, P]', 'year': u'1984', 'query': u'AU=(Pina) AND PY=1984 AND SO=(Oleagineux)', 'page': u'593'}], u'11510': [], u'12084': [], u'12085': [], u'12082': [{'wos_ids': {u'ResearcherID.Disclaimer': [u'ResearcherID data provided by Thomson Reuters']}, 'wos_title': u\"[Oil-bearing plants of Zaire. II. Botanical families providing oils of medium unsaturation., Les plantes a huile du Zaire. II. Familles botaniques fournissant des huiles d'insaturation moyenne.]\", 'author': '(Ngiefu)', 'wos_uid': u'CABI:19770351574', 'wos_source_data': {u'SourceTitle': [u'Oleagineux'], u'Volume': [u'31'], u'Published.BiblioYear': [u'1976'], u'Issue': [u'12'], u'Pages': [u'545-547']}, 'id': u'12082', 'volume': u'31', 'source': '(Oleagineux)', 'wos_authors': u'[Ngiefu, C. K., Paquot, C., Vieux, A., Kabele Ngiefu, C.]', 'year': u'1976', 'query': u'AU=(Ngiefu) AND PY=1976 AND SO=(Oleagineux)', 'page': u'545'}], u'12083': [{'wos_ids': {u'ResearcherID.Disclaimer': [u'ResearcherID data provided by Thomson Reuters']}, 'wos_title': u\"[Oil-bearing plants of Zaire. I. Botanical families providing oils of relatively low unsaturation., Les plantes a huile du Zaire. I. Familles botaniques fournissant des huiles d'insaturation relativement faible.]\", 'author': '(Ngiefu)', 'wos_uid': u'CABI:19760347525', 'wos_source_data': {u'SourceTitle': [u'Oleagineux'], u'Volume': [u'31'], u'Published.BiblioYear': [u'1976'], u'Issue': [u'7'], u'Pages': [u'335-337']}, 'id': u'12083', 'volume': u'31', 'source': '(Oleagineux)', 'wos_authors': u'[Ngiefu, C. K., Paquot, C., Vieux, A.]', 'year': u'1976', 'query': u'AU=(Ngiefu) AND PY=1976 AND SO=(Oleagineux)', 'page': u'335'}], u'12081': [{'wos_ids': {u'ResearcherID.Disclaimer': [u'ResearcherID data provided by Thomson Reuters']}, 'wos_title': u\"[Oil-bearing plants of Zaire. I. Botanical families providing oils of relatively low unsaturation., Les plantes a huile du Zaire. I. Familles botaniques fournissant des huiles d'insaturation relativement faible.]\", 'author': '(Ngiefu)', 'wos_uid': u'CABI:19760347525', 'wos_source_data': {u'SourceTitle': [u'Oleagineux'], u'Volume': [u'31'], u'Published.BiblioYear': [u'1976'], u'Issue': [u'7'], u'Pages': [u'335-337']}, 'id': u'12081', 'volume': u'31', 'source': '(Oleagineux)', 'wos_authors': u'[Ngiefu, C. K., Paquot, C., Vieux, A.]', 'year': u'1976', 'query': u'AU=(Ngiefu) AND PY=1976 AND SO=(Oleagineux)', 'page': u'335'}]}\n"
     ]
    }
   ],
   "source": [
    "from woscalls import WosCalls\n",
    "wosc = WosCalls(search_term_sets=bs.search_terms, database_id=\"WOK\")\n",
    "wosc.find_exact_match()"
   ]
  },
  {
   "cell_type": "markdown",
   "metadata": {
    "collapsed": false
   },
   "source": [
    "The `WosCalls` class is additionally a place to house content-specific methods built on `Wos`. See `run_phylo_process` method as it develops."
   ]
  },
  {
   "cell_type": "markdown",
   "metadata": {},
   "source": [
    "### Additional Information\n",
    "\n",
    "The `BuildSearch` class is currently quite content specific but could in principle be broadened to allow for automatically generating searches from data in other formats, such as CSV or JSON. Currently the algorithm below assumes a very specific data structure to work."
   ]
  },
  {
   "cell_type": "code",
   "execution_count": 18,
   "metadata": {
    "collapsed": false,
    "scrolled": true
   },
   "outputs": [
    {
     "name": "stdout",
     "output_type": "stream",
     "text": [
      "File loaded.\n"
     ]
    }
   ],
   "source": [
    "from buildsearch import OhlroggeSearch\n",
    "bs = OhlroggeSearch(\"data/ohlrogge/ohlrogge_test_10.txt\")\n",
    "bs.make_search_list() # from here the object bs.searches can be used in WosCalls()"
   ]
  },
  {
   "cell_type": "code",
   "execution_count": 1,
   "metadata": {
    "collapsed": false,
    "scrolled": true
   },
   "outputs": [
    {
     "name": "stdout",
     "output_type": "stream",
     "text": [
      "File loaded.\n"
     ]
    }
   ],
   "source": [
    "from buildsearch import OhlroggeSearch\n",
    "bs = OhlroggeSearch(\"data/ohlrogge-test-3.txt\")\n",
    "bs.make_search_dict() # from here the object bs.search_terms can be used in WosCalls()"
   ]
  },
  {
   "cell_type": "code",
   "execution_count": 20,
   "metadata": {
    "collapsed": false
   },
   "outputs": [
    {
     "data": {
      "text/plain": [
       "[u'AU=(Lambertsen) AND PY=1966 AND SO=(Acta Agric* Scand*)',\n",
       " u'AU=(Bentes) AND PY=1986 AND SO=(Acta Amazonica)',\n",
       " u'AU=(Maia) AND PY=1978 AND SO=(Acta Amazonica)',\n",
       " u'AU=(Loth) AND PY=1991 AND SO=(Agrochimica)',\n",
       " u'AU=(Jellum AND Powell) AND PY=1971 AND SO=(Agron* J*)',\n",
       " u'AU=(Bertoni) AND PY=1994 AND SO=(An* Asoc* Quim* Argent*)',\n",
       " u'AU=(Balnchini) AND PY=1981 AND SO=(Anal* Chem*)',\n",
       " u'AU=(Peiretti AND Palmegiano AND Masoero) AND PY=2004 AND SO=(Animal Feed Science and Technology)',\n",
       " u'AU=(Adhikari) AND PY=1991 AND SO=(Bangladesh J* Sci* Ind* Res*)',\n",
       " u'AU=(Serrano AND Guzm?n) AND PY=1994 AND SO=(Biochem* Systemat* Ecology)']"
      ]
     },
     "execution_count": 20,
     "metadata": {},
     "output_type": "execute_result"
    }
   ],
   "source": [
    "bs.searches"
   ]
  },
  {
   "cell_type": "markdown",
   "metadata": {
    "collapsed": false
   },
   "source": [
    "The `bs.searches` object contains a list of searches, suitable to pass as an argument in the `WosCalls` class."
   ]
  },
  {
   "cell_type": "markdown",
   "metadata": {
    "collapsed": true
   },
   "source": [
    "#### Get in touch!\n",
    "\n",
    "If I can be of help in using this code, or if you have suggestions for improvement, please do contact me."
   ]
  },
  {
   "cell_type": "code",
   "execution_count": 2,
   "metadata": {
    "collapsed": false
   },
   "outputs": [
    {
     "name": "stdout",
     "output_type": "stream",
     "text": [
      "File loaded.\n"
     ]
    }
   ],
   "source": [
    "from buildsearch import OhlroggeSearch\n",
    "bs = OhlroggeSearch(\"data/ohlrogge/ohlrogge_test_10.txt\")"
   ]
  },
  {
   "cell_type": "code",
   "execution_count": 3,
   "metadata": {
    "collapsed": false
   },
   "outputs": [],
   "source": [
    "test = dict(wos.search_results.records[0])"
   ]
  },
  {
   "cell_type": "code",
   "execution_count": 10,
   "metadata": {
    "collapsed": false
   },
   "outputs": [
    {
     "data": {
      "text/plain": [
       "list"
      ]
     },
     "execution_count": 10,
     "metadata": {},
     "output_type": "execute_result"
    }
   ],
   "source": [
    "type(test[\"authors\"][0][\"value\"])"
   ]
  },
  {
   "cell_type": "code",
   "execution_count": 12,
   "metadata": {
    "collapsed": false
   },
   "outputs": [
    {
     "data": {
      "text/plain": [
       "['uid', 'title', 'source', 'other', 'authors', 'keywords']"
      ]
     },
     "execution_count": 12,
     "metadata": {},
     "output_type": "execute_result"
    }
   ],
   "source": [
    "test.keys()"
   ]
  },
  {
   "cell_type": "code",
   "execution_count": 19,
   "metadata": {
    "collapsed": false
   },
   "outputs": [
    {
     "name": "stdout",
     "output_type": "stream",
     "text": [
      "Contributor.ResearcherID.Names [Peiretti, Pier Giorgio, Peiretti, Pier Giorgio]\n",
      "Contributor.ResearcherID.ResearcherIDs [B-6871-2013, None]\n",
      "Identifier.Doi [10.1016/j.anifeedsci.2004.07.001]\n",
      "Identifier.Ids [863ND]\n",
      "Identifier.Issn [0377-8401]\n",
      "Identifier.Xref_Doi [10.1016/j.anifeedsci.2004.07.001]\n",
      "ResearcherID.Disclaimer [ResearcherID data provided by Thomson Reuters]\n"
     ]
    }
   ],
   "source": [
    "for ids in test[\"other\"]:\n",
    "    print ids[\"label\"], ids[\"value\"]"
   ]
  },
  {
   "cell_type": "code",
   "execution_count": 3,
   "metadata": {
    "collapsed": false
   },
   "outputs": [],
   "source": [
    "d = {'volume': u'32', 'source': '(Soviet plant physiology)', 'author': '(Rikhter)', 'query': u'AU=(Rikhter) AND PY=1985 AND SO=(Soviet plant physiology)', 'year': u'1985', 'page': u'755-760', 'id': u'12392'}"
   ]
  },
  {
   "cell_type": "code",
   "execution_count": 6,
   "metadata": {
    "collapsed": false
   },
   "outputs": [],
   "source": [
    "d2 = {'wos_ids': {'Identifier.Issn': u'[0038-5719]', 'ResearcherID.Disclaimer': u'[ResearcherID data provided by Thomson Reuters]', 'Identifier.Ids': u'[C2732]'}, 'wos_authors': ['RIKHTER, AA'], 'wos_source_data': {'SourceTitle': u'[SOVIET PLANT PHYSIOLOGY]', 'Published.BiblioYear': u'[1985]', 'Published.BiblioDate': u'[SEP-OCT]', 'Volume': u'[32]', 'Issue': u'[5]', 'Pages': u'[755-760]'}, 'wos_uid': 'WOS:A1985C273200010', 'wos_title': ['VARIABILITY OF SEED OIL FATTY-ACID COMPOSITION IN DIFFERENT SPECIES AND VARIETIES OF ALMOND']}"
   ]
  },
  {
   "cell_type": "code",
   "execution_count": 7,
   "metadata": {
    "collapsed": false
   },
   "outputs": [],
   "source": [
    "d.update(d2)"
   ]
  },
  {
   "cell_type": "code",
   "execution_count": 8,
   "metadata": {
    "collapsed": false
   },
   "outputs": [
    {
     "data": {
      "text/plain": [
       "{'author': '(Rikhter)',\n",
       " 'id': u'12392',\n",
       " 'page': u'755-760',\n",
       " 'query': u'AU=(Rikhter) AND PY=1985 AND SO=(Soviet plant physiology)',\n",
       " 'source': '(Soviet plant physiology)',\n",
       " 'volume': u'32',\n",
       " 'wos_authors': ['RIKHTER, AA'],\n",
       " 'wos_ids': {'Identifier.Ids': u'[C2732]',\n",
       "  'Identifier.Issn': u'[0038-5719]',\n",
       "  'ResearcherID.Disclaimer': u'[ResearcherID data provided by Thomson Reuters]'},\n",
       " 'wos_source_data': {'Issue': u'[5]',\n",
       "  'Pages': u'[755-760]',\n",
       "  'Published.BiblioDate': u'[SEP-OCT]',\n",
       "  'Published.BiblioYear': u'[1985]',\n",
       "  'SourceTitle': u'[SOVIET PLANT PHYSIOLOGY]',\n",
       "  'Volume': u'[32]'},\n",
       " 'wos_title': ['VARIABILITY OF SEED OIL FATTY-ACID COMPOSITION IN DIFFERENT SPECIES AND VARIETIES OF ALMOND'],\n",
       " 'wos_uid': 'WOS:A1985C273200010',\n",
       " 'year': u'1985'}"
      ]
     },
     "execution_count": 8,
     "metadata": {},
     "output_type": "execute_result"
    }
   ],
   "source": [
    "d"
   ]
  },
  {
   "cell_type": "code",
   "execution_count": 5,
   "metadata": {
    "collapsed": false
   },
   "outputs": [],
   "source": [
    "b = {'wos_ids': {u'Identifier.Issn': [u'0038-5719'], u'ResearcherID.Disclaimer': [u'ResearcherID data provided by Thomson Reuters'], u'Identifier.Ids': [u'C2732']}, 'wos_authors': u'[RIKHTER, AA]', 'wos_source_data': {u'SourceTitle': [u'SOVIET PLANT PHYSIOLOGY'], u'Published.BiblioYear': [u'1985'], u'Published.BiblioDate': [u'SEP-OCT'], u'Volume': [u'32'], u'Issue': [u'5'], u'Pages': [u'755-760']}, 'wos_uid': u'WOS:A1985C273200010', 'wos_title': u'[VARIABILITY OF SEED OIL FATTY-ACID COMPOSITION IN DIFFERENT SPECIES AND VARIETIES OF ALMOND]'}"
   ]
  },
  {
   "cell_type": "code",
   "execution_count": 6,
   "metadata": {
    "collapsed": false
   },
   "outputs": [
    {
     "data": {
      "text/plain": [
       "{'wos_authors': u'[RIKHTER, AA]',\n",
       " 'wos_ids': {u'Identifier.Ids': [u'C2732'],\n",
       "  u'Identifier.Issn': [u'0038-5719'],\n",
       "  u'ResearcherID.Disclaimer': [u'ResearcherID data provided by Thomson Reuters']},\n",
       " 'wos_source_data': {u'Issue': [u'5'],\n",
       "  u'Pages': [u'755-760'],\n",
       "  u'Published.BiblioDate': [u'SEP-OCT'],\n",
       "  u'Published.BiblioYear': [u'1985'],\n",
       "  u'SourceTitle': [u'SOVIET PLANT PHYSIOLOGY'],\n",
       "  u'Volume': [u'32']},\n",
       " 'wos_title': u'[VARIABILITY OF SEED OIL FATTY-ACID COMPOSITION IN DIFFERENT SPECIES AND VARIETIES OF ALMOND]',\n",
       " 'wos_uid': u'WOS:A1985C273200010'}"
      ]
     },
     "execution_count": 6,
     "metadata": {},
     "output_type": "execute_result"
    }
   ],
   "source": [
    "b"
   ]
  },
  {
   "cell_type": "code",
   "execution_count": null,
   "metadata": {
    "collapsed": true
   },
   "outputs": [],
   "source": []
  }
 ],
 "metadata": {
  "kernelspec": {
   "display_name": "Python 2",
   "language": "python",
   "name": "python2"
  },
  "language_info": {
   "codemirror_mode": {
    "name": "ipython",
    "version": 2
   },
   "file_extension": ".py",
   "mimetype": "text/x-python",
   "name": "python",
   "nbconvert_exporter": "python",
   "pygments_lexer": "ipython2",
   "version": "2.7.1"
  }
 },
 "nbformat": 4,
 "nbformat_minor": 0
}
